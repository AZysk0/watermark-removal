{
 "cells": [
  {
   "cell_type": "code",
   "execution_count": 7,
   "metadata": {},
   "outputs": [],
   "source": [
    "\n",
    "import os\n",
    "from copy import deepcopy\n",
    "# import psutil\n",
    "import numpy as np\n",
    "import cv2\n",
    "import torch\n",
    "import torch.nn as nn\n",
    "import torch.nn.functional as F\n",
    "import torch.optim as optim\n",
    "\n",
    "import matplotlib.pyplot as plt"
   ]
  },
  {
   "cell_type": "code",
   "execution_count": 8,
   "metadata": {},
   "outputs": [],
   "source": [
    "clean_images_dir = 'data/upscaled'\n",
    "watermark_images_dir = 'data/watermark_upscaled'\n",
    "segmented_watermarks_dir = 'data/segmented'\n"
   ]
  },
  {
   "cell_type": "code",
   "execution_count": 9,
   "metadata": {},
   "outputs": [
    {
     "name": "stdout",
     "output_type": "stream",
     "text": [
      "['data/upscaled\\\\image_0.jpg', 'data/upscaled\\\\image_1.jpg', 'data/upscaled\\\\image_2.jpg', 'data/upscaled\\\\image_3.jpg', 'data/upscaled\\\\image_4.jpg', 'data/upscaled\\\\image_5.jpg', 'data/upscaled\\\\image_6.jpg', 'data/upscaled\\\\image_7.jpg', 'data/upscaled\\\\image_8.jpg', 'data/upscaled\\\\image_9.jpg']\n",
      "['data/watermark_upscaled\\\\image_0.png', 'data/watermark_upscaled\\\\image_1.png', 'data/watermark_upscaled\\\\image_2.png', 'data/watermark_upscaled\\\\image_3.png', 'data/watermark_upscaled\\\\image_4.png', 'data/watermark_upscaled\\\\image_5.png', 'data/watermark_upscaled\\\\image_6.png', 'data/watermark_upscaled\\\\image_7.png', 'data/watermark_upscaled\\\\image_8.png', 'data/watermark_upscaled\\\\image_9.jpg']\n"
     ]
    }
   ],
   "source": [
    "\n",
    "def sort_by_index(_strs):\n",
    "    import re\n",
    "    def str_index(_str):\n",
    "        match = re.search(r'_(\\d+)', _str)\n",
    "        return int(match.group(1)) if match else float('inf')\n",
    "    \n",
    "    return sorted(_strs, key=str_index)\n",
    "\n",
    "\n",
    "def get_image_paths(dir, n=1):\n",
    "    valid_ext = ['.jpg', '.jpeg', '.png', '.gif', '.bmp']\n",
    "    paths = [os.path.join(dir, filename) for filename in sort_by_index(os.listdir(dir))[:n]\n",
    "             if any(filename.lower().endswith(ext) for ext in valid_ext)]\n",
    "    return paths\n",
    "\n",
    "test_clean_images_path = get_image_paths(clean_images_dir, n=10)\n",
    "test_watermark_images_path = get_image_paths(watermark_images_dir, n=10)\n",
    "\n",
    "print(test_clean_images_path, test_watermark_images_path, sep='\\n')"
   ]
  },
  {
   "cell_type": "code",
   "execution_count": null,
   "metadata": {},
   "outputs": [],
   "source": [
    "def plot_images_grid(images, rows, cols):\n",
    "    \n",
    "    \n",
    "    return"
   ]
  },
  {
   "cell_type": "code",
   "execution_count": null,
   "metadata": {},
   "outputs": [],
   "source": [
    "def segment_watermark(clean_path, watermark_path):\n",
    "    clean_gray = cv2.imread(clean_path, cv2.IMREAD_GRAYSCALE)\n",
    "    watermark_gray = cv2.imread(watermark_path, cv2.IMREAD_GRAYSCALE)\n",
    "    \n",
    "    if clean_gray is None or watermark_gray is None:\n",
    "        raise ValueError(\"One or both of the images could not be loaded.\")\n",
    "\n",
    "    diff = cv2.absdiff(clean_gray, watermark_gray)\n",
    "    _, thresh_segmented = cv2.threshold(diff, 20, 255, cv2.THRESH_BINARY)\n",
    "    return thresh_segmented\n",
    "\n",
    "\n",
    "test_segmented = [ segment_watermark(clean_path, wm_path)  \n",
    "                  for clean_path, wm_path in zip(test_clean_images_path , test_watermark_images_path)]\n",
    "\n",
    "\n",
    "\n",
    "\n",
    "# cv2.imshow(\"Window Name\", test_segmented[0])\n",
    "# cv2.waitKey(0)\n",
    "# cv2.destroyAllWindows()\n"
   ]
  },
  {
   "cell_type": "code",
   "execution_count": 11,
   "metadata": {},
   "outputs": [],
   "source": [
    "class WatermarkDataset(torch.utils.data.Dataset):\n",
    "    \"\"\"Some Information about WatermarkDataset\"\"\"\n",
    "    def __init__(self):\n",
    "        super(WatermarkDataset, self).__init__()\n",
    "\n",
    "    def __getitem__(self, index):\n",
    "        return \n",
    "\n",
    "    def __len__(self):\n",
    "        return "
   ]
  },
  {
   "cell_type": "code",
   "execution_count": null,
   "metadata": {},
   "outputs": [],
   "source": []
  }
 ],
 "metadata": {
  "kernelspec": {
   "display_name": ".venv",
   "language": "python",
   "name": "python3"
  },
  "language_info": {
   "codemirror_mode": {
    "name": "ipython",
    "version": 3
   },
   "file_extension": ".py",
   "mimetype": "text/x-python",
   "name": "python",
   "nbconvert_exporter": "python",
   "pygments_lexer": "ipython3",
   "version": "3.12.8"
  }
 },
 "nbformat": 4,
 "nbformat_minor": 2
}
